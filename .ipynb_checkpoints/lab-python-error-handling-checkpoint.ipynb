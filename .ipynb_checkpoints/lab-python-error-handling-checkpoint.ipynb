{
 "cells": [
  {
   "cell_type": "markdown",
   "id": "25d7736c-ba17-4aff-b6bb-66eba20fbf4e",
   "metadata": {},
   "source": [
    "# Lab | Error Handling"
   ]
  },
  {
   "cell_type": "markdown",
   "id": "bc99b386-7508-47a0-bcdb-d969deaf6c8b",
   "metadata": {},
   "source": [
    "## Exercise: Error Handling for Managing Customer Orders\n",
    "\n",
    "The implementation of your code for managing customer orders assumes that the user will always enter a valid input. \n",
    "\n",
    "For example, we could modify the `initialize_inventory` function to include error handling.\n",
    "   - If the user enters an invalid quantity (e.g., a negative value or a non-numeric value), display an error message and ask them to re-enter the quantity for that product.\n",
    "   - Use a try-except block to handle the error and continue prompting the user until a valid quantity is entered.\n",
    "\n",
    "```python\n",
    "# Step 1: Define the function for initializing the inventory with error handling\n",
    "def initialize_inventory(products):\n",
    "    inventory = {}\n",
    "    for product in products:\n",
    "        valid_quantity = False\n",
    "        while not valid_quantity:\n",
    "            try:\n",
    "                quantity = int(input(f\"Enter the quantity of {product}s available: \"))\n",
    "                if quantity < 0:\n",
    "                    raise ValueError(\"Invalid quantity! Please enter a non-negative value.\")\n",
    "                valid_quantity = True\n",
    "            except ValueError as error:\n",
    "                print(f\"Error: {error}\")\n",
    "        inventory[product] = quantity\n",
    "    return inventory\n",
    "\n",
    "# Or, in another way:\n",
    "\n",
    "def initialize_inventory(products):\n",
    "    inventory = {}\n",
    "    for product in products:\n",
    "        valid_input = False\n",
    "        while not valid_input:\n",
    "            try:\n",
    "                quantity = int(input(f\"Enter the quantity of {product}s available: \"))\n",
    "                if quantity >= 0:\n",
    "                    inventory[product] = quantity\n",
    "                    valid_input = True\n",
    "                else:\n",
    "                    print(\"Quantity cannot be negative. Please enter a valid quantity.\")\n",
    "            except ValueError:\n",
    "                print(\"Invalid input. Please enter a valid quantity.\")\n",
    "    return inventory\n",
    "```\n",
    "\n",
    "Let's enhance your code by implementing error handling to handle invalid inputs.\n",
    "\n",
    "Follow the steps below to complete the exercise:\n",
    "\n",
    "2. Modify the `calculate_total_price` function to include error handling.\n",
    "   - If the user enters an invalid price (e.g., a negative value or a non-numeric value), display an error message and ask them to re-enter the price for that product.\n",
    "   - Use a try-except block to handle the error and continue prompting the user until a valid price is entered.\n",
    "\n",
    "3. Modify the `get_customer_orders` function to include error handling.\n",
    "   - If the user enters an invalid number of orders (e.g., a negative value or a non-numeric value), display an error message and ask them to re-enter the number of orders.\n",
    "   - If the user enters an invalid product name (e.g., a product name that is not in the inventory), or that doesn't have stock available, display an error message and ask them to re-enter the product name. *Hint: you will need to pass inventory as a parameter*\n",
    "   - Use a try-except block to handle the error and continue prompting the user until a valid product name is entered.\n",
    "\n",
    "4. Test your code by running the program and deliberately entering invalid quantities and product names. Make sure the error handling mechanism works as expected.\n"
   ]
  },
  {
   "cell_type": "code",
   "execution_count": 6,
   "id": "cd636750",
   "metadata": {},
   "outputs": [
    {
     "name": "stdout",
     "output_type": "stream",
     "text": [
      "Enter the quantity of t-shirts available: 5\n",
      "Enter the quantity of mugs available: 0\n",
      "Enter the quantity of hats available: 0\n",
      "Enter the quantity of books available: 5\n",
      "Enter the quantity of keychains available: 5\n",
      "{'t-shirt': 5, 'mug': 0, 'hat': 0, 'book': 5, 'keychain': 5}\n"
     ]
    }
   ],
   "source": [
    "# 1)\n",
    "products = [\"t-shirt\", \"mug\", \"hat\", \"book\", \"keychain\"]\n",
    "\n",
    "def initialize_inventory(products):\n",
    "    inventory = {}\n",
    "    for product in products:\n",
    "        valid_input = False\n",
    "        while not valid_input:\n",
    "            try:\n",
    "                quantity = int(input(f\"Enter the quantity of {product}s available: \"))\n",
    "                if quantity >= 0:\n",
    "                    inventory[product] = quantity\n",
    "                    valid_input = True\n",
    "                else:\n",
    "                    print(\"Quantity cannot be negative. Please enter a valid quantity.\")\n",
    "            except ValueError:\n",
    "                print(\"Invalid input. Please enter a valid quantity.\")\n",
    "    return inventory\n",
    "\n",
    "inventory = initialize_inventory(products)"
   ]
  },
  {
   "cell_type": "code",
   "execution_count": 12,
   "id": "5c85e405",
   "metadata": {},
   "outputs": [
    {
     "name": "stdout",
     "output_type": "stream",
     "text": [
      "Please enter the price of hat: 6\n",
      "Please enter the price of book: 8\n",
      "Please enter the price of mug: k\n",
      "Invalid input. Please enter a valid price.\n",
      "Please enter the price of mug: 0\n",
      "14\n"
     ]
    }
   ],
   "source": [
    "# 2) handle invalid prices (i.e. non-numbers or neg values); display error; have user re-enter until correct\n",
    "\n",
    "customer_orders = {'hat', 'mug', 'book'}\n",
    "\n",
    "def calculate_total_price (customer_orders):\n",
    "    total_price = 0\n",
    "    for order in customer_orders:\n",
    "        valid_input = False\n",
    "        while not valid_input:\n",
    "            try:\n",
    "                price = int(input(f'Please enter the price of {order}: '))\n",
    "                if price > 0:\n",
    "                    valid_input = True\n",
    "                    total_price += price\n",
    "                else:\n",
    "                    print(\"The price cannot be negative. Please enter a valid amount.\")\n",
    "            except ValueError:\n",
    "                print(\"Invalid input. Please enter a valid price.\")\n",
    "\n",
    "    return total_price\n",
    "\n",
    "total_price = calculate_total_price(customer_orders)\n",
    "print(total_price)"
   ]
  },
  {
   "cell_type": "code",
   "execution_count": 13,
   "id": "389ae67c",
   "metadata": {},
   "outputs": [
    {
     "name": "stdout",
     "output_type": "stream",
     "text": [
      "Enter the number of customer orders: 3\n",
      "Please enter which product you ordered 1. (t-shirt, mug, hat, book, or keychain): mug\n",
      "Unfortunately, mug is not available. Please choose from available products: t-shirt, hat, book, keychain\n",
      "Please enter which product you ordered 1. (t-shirt, mug, hat, book, or keychain): hat\n",
      "Please enter which product you ordered 2. (t-shirt, mug, hat, book, or keychain): hat\n",
      "Unfortunately, hat is not available. Please choose from available products: t-shirt, book, keychain\n",
      "Please enter which product you ordered 2. (t-shirt, mug, hat, book, or keychain): book\n",
      "Please enter which product you ordered 3. (t-shirt, mug, hat, book, or keychain): hat\n",
      "Unfortunately, hat is not available. Please choose from available products: t-shirt, book, keychain\n",
      "Please enter which product you ordered 3. (t-shirt, mug, hat, book, or keychain): mug\n",
      "Unfortunately, mug is not available. Please choose from available products: t-shirt, book, keychain\n",
      "Please enter which product you ordered 3. (t-shirt, mug, hat, book, or keychain): book\n",
      "Thank you for your order :)\n"
     ]
    }
   ],
   "source": [
    "\"\"\"\n",
    "3)\n",
    "- handle invalid order nr. (i.e. non-num or neg vals); display error; have user re-enter\n",
    "- handle invalid product name (e.g., not in the inventory or out of stock), display error; have user re-enter\n",
    "\"\"\"\n",
    "inventory = {'t-shirt': 5, 'mug': 0, 'hat': 1, 'book': 5, 'keychain': 5}\n",
    "\n",
    "def get_customer_orders():\n",
    "    valid_input_number = False\n",
    "    while not valid_input_number:\n",
    "        try:\n",
    "            num_orders = int(input('Enter the number of customer orders: '))\n",
    "            if num_orders > 0:\n",
    "                valid_input_number = True\n",
    "            else:\n",
    "                print(\"Please enter a positive number for orders.\")\n",
    "        except ValueError:\n",
    "            print(\"Invalid input. Please enter a valid number.\")\n",
    "\n",
    "    customer_orders = set()\n",
    "    \n",
    "    for i in range(num_orders):\n",
    "        valid_input_product = False\n",
    "        while not valid_input_product:\n",
    "            order = input(f'Please enter which product you ordered {i+1}. (t-shirt, mug, hat, book, or keychain): ').strip().lower()\n",
    "            if order in inventory and inventory[order] > 0:\n",
    "                valid_input_product = True\n",
    "                customer_orders.add(order)\n",
    "                inventory[order] -= 1\n",
    "            else:\n",
    "                available_products = [item for item, quantity in inventory.items() if quantity > 0]\n",
    "                print(f\"Unfortunately, the {order} is not available. Please choose from our available products: {', '.join(available_products)}\")\n",
    "\n",
    "    print('Thank you for your order :)')\n",
    "    return customer_orders\n",
    "\n",
    "customer_orders = get_customer_orders()"
   ]
  },
  {
   "cell_type": "code",
   "execution_count": 14,
   "id": "97c5b01f",
   "metadata": {},
   "outputs": [
    {
     "name": "stdout",
     "output_type": "stream",
     "text": [
      "Enter the quantity of t-shirts available: 5\n",
      "Enter the quantity of mugs available: 2\n",
      "Enter the quantity of hats available: 3\n",
      "Enter the quantity of books available: 5\n",
      "Enter the quantity of keychains available: 7\n",
      "Enter the number of customer orders: 5\n",
      "Please enter which product you ordered 1. (t-shirt, mug, hat, book, or keychain): mug\n",
      "Please enter which product you ordered 2. (t-shirt, mug, hat, book, or keychain): mug\n",
      "Please enter which product you ordered 3. (t-shirt, mug, hat, book, or keychain): mug\n",
      "Unfortunately, mug is not available. Please choose from available products: t-shirt, hat, book, keychain\n",
      "Please enter which product you ordered 3. (t-shirt, mug, hat, book, or keychain): hat\n",
      "Please enter which product you ordered 4. (t-shirt, mug, hat, book, or keychain): book\n",
      "Please enter which product you ordered 5. (t-shirt, mug, hat, book, or keychain): book\n",
      "Thank you for your order :)\n",
      "Please enter the price of hat: 10\n",
      "Please enter the price of mug: 10\n",
      "Please enter the price of book: 10\n"
     ]
    }
   ],
   "source": [
    "# 4) test functions\n",
    "products = [\"t-shirt\", \"mug\", \"hat\", \"book\", \"keychain\"]\n",
    "inventory = initialize_inventory(products)\n",
    "customer_orders = get_customer_orders()\n",
    "total_price = calculate_total_price(customer_orders)\n",
    "print(total_price)"
   ]
  },
  {
   "cell_type": "code",
   "execution_count": null,
   "id": "2009ad51",
   "metadata": {},
   "outputs": [],
   "source": []
  }
 ],
 "metadata": {
  "kernelspec": {
   "display_name": "Python 3 (ipykernel)",
   "language": "python",
   "name": "python3"
  },
  "language_info": {
   "codemirror_mode": {
    "name": "ipython",
    "version": 3
   },
   "file_extension": ".py",
   "mimetype": "text/x-python",
   "name": "python",
   "nbconvert_exporter": "python",
   "pygments_lexer": "ipython3",
   "version": "3.9.19"
  }
 },
 "nbformat": 4,
 "nbformat_minor": 5
}
